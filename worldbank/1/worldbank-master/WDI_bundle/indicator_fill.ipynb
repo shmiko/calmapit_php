{
 "metadata": {
  "name": ""
 },
 "nbformat": 3,
 "nbformat_minor": 0,
 "worksheets": [
  {
   "cells": [
    {
     "cell_type": "heading",
     "level": 1,
     "metadata": {},
     "source": [
      "\u586b\u5b8c indicator \u7a7a\u7f3a\u8cc7\u6599"
     ]
    },
    {
     "cell_type": "code",
     "collapsed": false,
     "input": [
      "import pandas as pd"
     ],
     "language": "python",
     "metadata": {},
     "outputs": [],
     "prompt_number": 1
    },
    {
     "cell_type": "code",
     "collapsed": false,
     "input": [
      "df_ind = pd.read_csv(\"WDI_Series.csv\", encoding=\"latin1\")"
     ],
     "language": "python",
     "metadata": {},
     "outputs": [],
     "prompt_number": 14
    },
    {
     "cell_type": "code",
     "collapsed": false,
     "input": [
      "df_ind_info = df_ind.ix[:, [\"SeriesCode\", \"Indicator Name\", \"Topic\"]]"
     ],
     "language": "python",
     "metadata": {},
     "outputs": [],
     "prompt_number": 20
    },
    {
     "cell_type": "code",
     "collapsed": false,
     "input": [
      "df_ind_info[df_ind_info[\"Indicator Name\"] == r\"Agricultural irrigated land (% of total agricultural land)\"]"
     ],
     "language": "python",
     "metadata": {},
     "outputs": [
      {
       "html": [
        "<div style=\"max-height:1000px;max-width:1500px;overflow:auto;\">\n",
        "<table border=\"1\" class=\"dataframe\">\n",
        "  <thead>\n",
        "    <tr style=\"text-align: right;\">\n",
        "      <th></th>\n",
        "      <th>SeriesCode</th>\n",
        "      <th>Indicator Name</th>\n",
        "      <th>Topic</th>\n",
        "    </tr>\n",
        "  </thead>\n",
        "  <tbody>\n",
        "    <tr>\n",
        "      <th>13</th>\n",
        "      <td> AG.LND.IRIG.AG.ZS</td>\n",
        "      <td> Agricultural irrigated land (% of total agricu...</td>\n",
        "      <td> Environment: Land use</td>\n",
        "    </tr>\n",
        "  </tbody>\n",
        "</table>\n",
        "</div>"
       ],
       "metadata": {},
       "output_type": "pyout",
       "prompt_number": 21,
       "text": [
        "           SeriesCode                                     Indicator Name  \\\n",
        "13  AG.LND.IRIG.AG.ZS  Agricultural irrigated land (% of total agricu...   \n",
        "\n",
        "                    Topic  \n",
        "13  Environment: Land use  "
       ]
      }
     ],
     "prompt_number": 21
    },
    {
     "cell_type": "code",
     "collapsed": false,
     "input": [
      "df_google = pd.read_csv(\"google_spreadsheet.csv\")"
     ],
     "language": "python",
     "metadata": {},
     "outputs": [],
     "prompt_number": 55
    },
    {
     "cell_type": "code",
     "collapsed": false,
     "input": [
      "df_google.head()"
     ],
     "language": "python",
     "metadata": {},
     "outputs": [
      {
       "html": [
        "<div style=\"max-height:1000px;max-width:1500px;overflow:auto;\">\n",
        "<table border=\"1\" class=\"dataframe\">\n",
        "  <thead>\n",
        "    <tr style=\"text-align: right;\">\n",
        "      <th></th>\n",
        "      <th>TOPIC</th>\n",
        "      <th>INDICATOR_NAME</th>\n",
        "      <th>INDICATOR_CODE</th>\n",
        "      <th>WORLDBANK_LINK</th>\n",
        "      <th>GITHUBDATA_LINK</th>\n",
        "    </tr>\n",
        "  </thead>\n",
        "  <tbody>\n",
        "    <tr>\n",
        "      <th>0</th>\n",
        "      <td> Agriculture &amp; Rural Development</td>\n",
        "      <td> Agricultural irrigated land (% of total agricu...</td>\n",
        "      <td> AG.LND.IRIG.AG.ZS</td>\n",
        "      <td> http://data.worldbank.org/indicator/AG.LND.IRI...</td>\n",
        "      <td> https://github.com/ronnywang/worldbank/blob/ma...</td>\n",
        "    </tr>\n",
        "    <tr>\n",
        "      <th>1</th>\n",
        "      <td> Agriculture &amp; Rural Development</td>\n",
        "      <td>                      Forest area (% of land area)</td>\n",
        "      <td>    AG.LND.FRST.ZS</td>\n",
        "      <td> http://data.worldbank.org/indicator/AG.LND.FRS...</td>\n",
        "      <td> https://github.com/ronnywang/worldbank/blob/ma...</td>\n",
        "    </tr>\n",
        "    <tr>\n",
        "      <th>2</th>\n",
        "      <td> Agriculture &amp; Rural Development</td>\n",
        "      <td>                Agricultural land (% of land area)</td>\n",
        "      <td>    AG.LND.AGRI.ZS</td>\n",
        "      <td> http://data.worldbank.org/indicator/AG.LND.AGR...</td>\n",
        "      <td> https://github.com/ronnywang/worldbank/blob/ma...</td>\n",
        "    </tr>\n",
        "    <tr>\n",
        "      <th>3</th>\n",
        "      <td> Agriculture &amp; Rural Development</td>\n",
        "      <td>                              Forest area (sq. km)</td>\n",
        "      <td>    AG.LND.FRST.K2</td>\n",
        "      <td> http://data.worldbank.org/indicator/AG.LND.FRS...</td>\n",
        "      <td> https://github.com/ronnywang/worldbank/blob/ma...</td>\n",
        "    </tr>\n",
        "    <tr>\n",
        "      <th>4</th>\n",
        "      <td> Agriculture &amp; Rural Development</td>\n",
        "      <td> Agricultural machinery, tractors per 100 sq. k...</td>\n",
        "      <td>    AG.LND.TRAC.ZS</td>\n",
        "      <td> http://data.worldbank.org/indicator/AG.LND.TRA...</td>\n",
        "      <td> https://github.com/ronnywang/worldbank/blob/ma...</td>\n",
        "    </tr>\n",
        "  </tbody>\n",
        "</table>\n",
        "</div>"
       ],
       "metadata": {},
       "output_type": "pyout",
       "prompt_number": 59,
       "text": [
        "                             TOPIC  \\\n",
        "0  Agriculture & Rural Development   \n",
        "1  Agriculture & Rural Development   \n",
        "2  Agriculture & Rural Development   \n",
        "3  Agriculture & Rural Development   \n",
        "4  Agriculture & Rural Development   \n",
        "\n",
        "                                      INDICATOR_NAME     INDICATOR_CODE  \\\n",
        "0  Agricultural irrigated land (% of total agricu...  AG.LND.IRIG.AG.ZS   \n",
        "1                       Forest area (% of land area)     AG.LND.FRST.ZS   \n",
        "2                 Agricultural land (% of land area)     AG.LND.AGRI.ZS   \n",
        "3                               Forest area (sq. km)     AG.LND.FRST.K2   \n",
        "4  Agricultural machinery, tractors per 100 sq. k...     AG.LND.TRAC.ZS   \n",
        "\n",
        "                                      WORLDBANK_LINK  \\\n",
        "0  http://data.worldbank.org/indicator/AG.LND.IRI...   \n",
        "1  http://data.worldbank.org/indicator/AG.LND.FRS...   \n",
        "2  http://data.worldbank.org/indicator/AG.LND.AGR...   \n",
        "3  http://data.worldbank.org/indicator/AG.LND.FRS...   \n",
        "4  http://data.worldbank.org/indicator/AG.LND.TRA...   \n",
        "\n",
        "                                     GITHUBDATA_LINK  \n",
        "0  https://github.com/ronnywang/worldbank/blob/ma...  \n",
        "1  https://github.com/ronnywang/worldbank/blob/ma...  \n",
        "2  https://github.com/ronnywang/worldbank/blob/ma...  \n",
        "3  https://github.com/ronnywang/worldbank/blob/ma...  \n",
        "4  https://github.com/ronnywang/worldbank/blob/ma...  "
       ]
      }
     ],
     "prompt_number": 59
    },
    {
     "cell_type": "code",
     "collapsed": false,
     "input": [
      "df_nodup = df_google.drop_duplicates(cols=[\"INDICATOR_CODE\"])"
     ],
     "language": "python",
     "metadata": {},
     "outputs": [],
     "prompt_number": 60
    },
    {
     "cell_type": "code",
     "collapsed": false,
     "input": [
      "df_merged = pd.merge(df_nodup, df_ind_info, how=\"left\", left_on=\"INDICATOR_CODE\", right_on=\"SeriesCode\")"
     ],
     "language": "python",
     "metadata": {},
     "outputs": [],
     "prompt_number": 67
    },
    {
     "cell_type": "code",
     "collapsed": false,
     "input": [
      "df_merged.head()"
     ],
     "language": "python",
     "metadata": {},
     "outputs": [
      {
       "html": [
        "<div style=\"max-height:1000px;max-width:1500px;overflow:auto;\">\n",
        "<table border=\"1\" class=\"dataframe\">\n",
        "  <thead>\n",
        "    <tr style=\"text-align: right;\">\n",
        "      <th></th>\n",
        "      <th>TOPIC</th>\n",
        "      <th>INDICATOR_NAME</th>\n",
        "      <th>INDICATOR_CODE</th>\n",
        "      <th>WORLDBANK_LINK</th>\n",
        "      <th>GITHUBDATA_LINK</th>\n",
        "      <th>SeriesCode</th>\n",
        "      <th>Indicator Name</th>\n",
        "      <th>Topic</th>\n",
        "    </tr>\n",
        "  </thead>\n",
        "  <tbody>\n",
        "    <tr>\n",
        "      <th>0</th>\n",
        "      <td> Agriculture &amp; Rural Development</td>\n",
        "      <td> Agricultural irrigated land (% of total agricu...</td>\n",
        "      <td> AG.LND.IRIG.AG.ZS</td>\n",
        "      <td> http://data.worldbank.org/indicator/AG.LND.IRI...</td>\n",
        "      <td> https://github.com/ronnywang/worldbank/blob/ma...</td>\n",
        "      <td> AG.LND.IRIG.AG.ZS</td>\n",
        "      <td> Agricultural irrigated land (% of total agricu...</td>\n",
        "      <td>                Environment: Land use</td>\n",
        "    </tr>\n",
        "    <tr>\n",
        "      <th>1</th>\n",
        "      <td> Agriculture &amp; Rural Development</td>\n",
        "      <td>                      Forest area (% of land area)</td>\n",
        "      <td>    AG.LND.FRST.ZS</td>\n",
        "      <td> http://data.worldbank.org/indicator/AG.LND.FRS...</td>\n",
        "      <td> https://github.com/ronnywang/worldbank/blob/ma...</td>\n",
        "      <td>    AG.LND.FRST.ZS</td>\n",
        "      <td>                      Forest area (% of land area)</td>\n",
        "      <td>                Environment: Land use</td>\n",
        "    </tr>\n",
        "    <tr>\n",
        "      <th>2</th>\n",
        "      <td> Agriculture &amp; Rural Development</td>\n",
        "      <td>                Agricultural land (% of land area)</td>\n",
        "      <td>    AG.LND.AGRI.ZS</td>\n",
        "      <td> http://data.worldbank.org/indicator/AG.LND.AGR...</td>\n",
        "      <td> https://github.com/ronnywang/worldbank/blob/ma...</td>\n",
        "      <td>    AG.LND.AGRI.ZS</td>\n",
        "      <td>                Agricultural land (% of land area)</td>\n",
        "      <td>                Environment: Land use</td>\n",
        "    </tr>\n",
        "    <tr>\n",
        "      <th>3</th>\n",
        "      <td> Agriculture &amp; Rural Development</td>\n",
        "      <td>                              Forest area (sq. km)</td>\n",
        "      <td>    AG.LND.FRST.K2</td>\n",
        "      <td> http://data.worldbank.org/indicator/AG.LND.FRS...</td>\n",
        "      <td> https://github.com/ronnywang/worldbank/blob/ma...</td>\n",
        "      <td>    AG.LND.FRST.K2</td>\n",
        "      <td>                              Forest area (sq. km)</td>\n",
        "      <td>                Environment: Land use</td>\n",
        "    </tr>\n",
        "    <tr>\n",
        "      <th>4</th>\n",
        "      <td> Agriculture &amp; Rural Development</td>\n",
        "      <td> Agricultural machinery, tractors per 100 sq. k...</td>\n",
        "      <td>    AG.LND.TRAC.ZS</td>\n",
        "      <td> http://data.worldbank.org/indicator/AG.LND.TRA...</td>\n",
        "      <td> https://github.com/ronnywang/worldbank/blob/ma...</td>\n",
        "      <td>    AG.LND.TRAC.ZS</td>\n",
        "      <td> Agricultural machinery, tractors per 100 sq. k...</td>\n",
        "      <td> Environment: Agricultural production</td>\n",
        "    </tr>\n",
        "  </tbody>\n",
        "</table>\n",
        "</div>"
       ],
       "metadata": {},
       "output_type": "pyout",
       "prompt_number": 70,
       "text": [
        "                             TOPIC  \\\n",
        "0  Agriculture & Rural Development   \n",
        "1  Agriculture & Rural Development   \n",
        "2  Agriculture & Rural Development   \n",
        "3  Agriculture & Rural Development   \n",
        "4  Agriculture & Rural Development   \n",
        "\n",
        "                                      INDICATOR_NAME     INDICATOR_CODE  \\\n",
        "0  Agricultural irrigated land (% of total agricu...  AG.LND.IRIG.AG.ZS   \n",
        "1                       Forest area (% of land area)     AG.LND.FRST.ZS   \n",
        "2                 Agricultural land (% of land area)     AG.LND.AGRI.ZS   \n",
        "3                               Forest area (sq. km)     AG.LND.FRST.K2   \n",
        "4  Agricultural machinery, tractors per 100 sq. k...     AG.LND.TRAC.ZS   \n",
        "\n",
        "                                      WORLDBANK_LINK  \\\n",
        "0  http://data.worldbank.org/indicator/AG.LND.IRI...   \n",
        "1  http://data.worldbank.org/indicator/AG.LND.FRS...   \n",
        "2  http://data.worldbank.org/indicator/AG.LND.AGR...   \n",
        "3  http://data.worldbank.org/indicator/AG.LND.FRS...   \n",
        "4  http://data.worldbank.org/indicator/AG.LND.TRA...   \n",
        "\n",
        "                                     GITHUBDATA_LINK         SeriesCode  \\\n",
        "0  https://github.com/ronnywang/worldbank/blob/ma...  AG.LND.IRIG.AG.ZS   \n",
        "1  https://github.com/ronnywang/worldbank/blob/ma...     AG.LND.FRST.ZS   \n",
        "2  https://github.com/ronnywang/worldbank/blob/ma...     AG.LND.AGRI.ZS   \n",
        "3  https://github.com/ronnywang/worldbank/blob/ma...     AG.LND.FRST.K2   \n",
        "4  https://github.com/ronnywang/worldbank/blob/ma...     AG.LND.TRAC.ZS   \n",
        "\n",
        "                                      Indicator Name  \\\n",
        "0  Agricultural irrigated land (% of total agricu...   \n",
        "1                       Forest area (% of land area)   \n",
        "2                 Agricultural land (% of land area)   \n",
        "3                               Forest area (sq. km)   \n",
        "4  Agricultural machinery, tractors per 100 sq. k...   \n",
        "\n",
        "                                  Topic  \n",
        "0                 Environment: Land use  \n",
        "1                 Environment: Land use  \n",
        "2                 Environment: Land use  \n",
        "3                 Environment: Land use  \n",
        "4  Environment: Agricultural production  "
       ]
      }
     ],
     "prompt_number": 70
    },
    {
     "cell_type": "code",
     "collapsed": false,
     "input": [
      "df_final = df_merged[[\"TOPIC\", \"Topic\", \"INDICATOR_NAME\", \"INDICATOR_CODE\", \"WORLDBANK_LINK\", \"GITHUBDATA_LINK\"]]"
     ],
     "language": "python",
     "metadata": {},
     "outputs": [],
     "prompt_number": 71
    },
    {
     "cell_type": "code",
     "collapsed": false,
     "input": [
      "df_final.columns = ['TOPIC', 'WID_Topic', 'INDICATOR_NAME', 'INDICATOR_CODE', 'WORLDBANK_LINK', 'GITHUBDATA_LINK']"
     ],
     "language": "python",
     "metadata": {},
     "outputs": [],
     "prompt_number": 76
    },
    {
     "cell_type": "code",
     "collapsed": false,
     "input": [
      "df_final.to_csv(\"google_out.csv\", index=False)"
     ],
     "language": "python",
     "metadata": {},
     "outputs": [],
     "prompt_number": 77
    },
    {
     "cell_type": "code",
     "collapsed": false,
     "input": [],
     "language": "python",
     "metadata": {},
     "outputs": []
    }
   ],
   "metadata": {}
  }
 ]
}