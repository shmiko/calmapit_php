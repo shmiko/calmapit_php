{
 "metadata": {
  "name": ""
 },
 "nbformat": 3,
 "nbformat_minor": 0,
 "worksheets": [
  {
   "cells": [
    {
     "cell_type": "markdown",
     "metadata": {},
     "source": [
      "\u8655\u7406\u9019\u5f35\u8868 http://data.worldbank.org/data-catalog/world-development-indicators\n",
      "\n",
      "\u6a94\u6848\u7d04 35 MB \u665a\u9ede\u518d push"
     ]
    },
    {
     "cell_type": "code",
     "collapsed": false,
     "input": [
      "ls"
     ],
     "language": "python",
     "metadata": {},
     "outputs": [
      {
       "output_type": "stream",
       "stream": "stdout",
       "text": [
        "WDI_CS_Notes.csv     WDI_Description.csv  WDI_Series.csv       parser.ipynb\r\n",
        "WDI_Country.csv      WDI_Footnotes.csv    ind_list.csv\r\n",
        "WDI_Data.csv         WDI_ST_Notes.csv     \u001b[34mparsed\u001b[m\u001b[m/\r\n"
       ]
      }
     ],
     "prompt_number": 84
    },
    {
     "cell_type": "code",
     "collapsed": false,
     "input": [
      "import pandas as pd"
     ],
     "language": "python",
     "metadata": {},
     "outputs": [],
     "prompt_number": 1
    },
    {
     "cell_type": "code",
     "collapsed": false,
     "input": [
      "df_main = pd.read_csv(\"WDI_Data.csv\")"
     ],
     "language": "python",
     "metadata": {},
     "outputs": [],
     "prompt_number": 4
    },
    {
     "cell_type": "code",
     "collapsed": false,
     "input": [
      "df_all_ind = df_main.ix[:, 2:4]\n",
      "ind_pairs = set(i[1:] for i in df_all_ind.itertuples())\n",
      "df_ind_list = pd.DataFrame(list(ind_pairs))\n",
      "df_ind_list.columns = [\"Indicator_Description\", \"Indicator_Name\"]"
     ],
     "language": "python",
     "metadata": {},
     "outputs": [],
     "prompt_number": 23
    },
    {
     "cell_type": "code",
     "collapsed": false,
     "input": [
      "df_ind_list.to_csv(\"ind_list.csv\", index=False)"
     ],
     "language": "python",
     "metadata": {},
     "outputs": [],
     "prompt_number": 38
    },
    {
     "cell_type": "code",
     "collapsed": false,
     "input": [
      "df_main.columns"
     ],
     "language": "python",
     "metadata": {},
     "outputs": [
      {
       "metadata": {},
       "output_type": "pyout",
       "prompt_number": 49,
       "text": [
        "Index(['Country Name', 'Country Code', 'Indicator Name', 'Indicator Code', '1960', '1961', '1962', '1963', '1964', '1965', '1966', '1967', '1968', '1969', '1970', '1971', '1972', '1973', '1974', '1975', '1976', '1977', '1978', '1979', '1980', '1981', '1982', '1983', '1984', '1985', '1986', '1987', '1988', '1989', '1990', '1991', '1992', '1993', '1994', '1995', '1996', '1997', '1998', '1999', '2000', '2001', '2002', '2003', '2004', '2005', '2006', '2007', '2008', '2009', '2010', '2011', '2012', '2013'], dtype=object)"
       ]
      }
     ],
     "prompt_number": 49
    },
    {
     "cell_type": "code",
     "collapsed": false,
     "input": [
      "grouped = df_main.groupby([\"Indicator Code\"])"
     ],
     "language": "python",
     "metadata": {},
     "outputs": [],
     "prompt_number": 66
    },
    {
     "cell_type": "code",
     "collapsed": false,
     "input": [
      "for i, (ind, df) in enumerate(grouped):\n",
      "    if i > 5:\n",
      "        break\n",
      "    else:\n",
      "        csv_f = \"parsed/{}_WDI.csv\".format(ind)\n",
      "        print(\"Writing {}_WDI.csv\".format(ind))\n",
      "        # print(len(df[\"Country Name\"]))\n",
      "        # print(df)\n",
      "        df.to_csv(csv_f, index=False)"
     ],
     "language": "python",
     "metadata": {},
     "outputs": [
      {
       "output_type": "stream",
       "stream": "stdout",
       "text": [
        "Writing AG.AGR.TRAC.NO_WDI.csv\n",
        "Writing AG.CON.FERT.PT.ZS_WDI.csv\n",
        "Writing AG.CON.FERT.ZS_WDI.csv\n",
        "Writing AG.LND.AGRI.K2_WDI.csv\n",
        "Writing AG.LND.AGRI.ZS_WDI.csv\n",
        "Writing AG.LND.ARBL.HA_WDI.csv"
       ]
      },
      {
       "output_type": "stream",
       "stream": "stdout",
       "text": [
        "\n"
       ]
      }
     ],
     "prompt_number": 80
    },
    {
     "cell_type": "code",
     "collapsed": false,
     "input": [
      "ind, df = next(grouped.__iter__())"
     ],
     "language": "python",
     "metadata": {},
     "outputs": [],
     "prompt_number": 75
    },
    {
     "cell_type": "markdown",
     "metadata": {},
     "source": [
      "\u6b63\u5f0f code"
     ]
    },
    {
     "cell_type": "code",
     "collapsed": false,
     "input": [
      "for ind, df in grouped:\n",
      "    csv_f = \"parsed/{}_WDI.csv\".format(ind)\n",
      "    #print(\"Writing {}_WDI.csv\".format(ind))\n",
      "    # print(len(df[\"Country Name\"]))\n",
      "    # print(df)\n",
      "    df.to_csv(csv_f, index=False)"
     ],
     "language": "python",
     "metadata": {},
     "outputs": [],
     "prompt_number": 82
    },
    {
     "cell_type": "code",
     "collapsed": false,
     "input": [],
     "language": "python",
     "metadata": {},
     "outputs": []
    }
   ],
   "metadata": {}
  }
 ]
}