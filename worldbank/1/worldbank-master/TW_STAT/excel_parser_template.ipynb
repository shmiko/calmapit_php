{
 "metadata": {
  "name": ""
 },
 "nbformat": 3,
 "nbformat_minor": 0,
 "worksheets": [
  {
   "cells": [
    {
     "cell_type": "markdown",
     "metadata": {},
     "source": [
      "\u4f7f\u7528 Python 3.3\n",
      "Python Packages Dependencies:\n",
      "\n",
      "- IPython\n",
      "- xlrd\n",
      "- pandas\n",
      "\n",
      "\u8b80 XLS \u6a94\u53ef\u4ee5\u53c3\u8003 http://www.youlikeprogramming.com/2012/03/examples-reading-excel-xls-documents-using-pythons-xlrd/"
     ]
    },
    {
     "cell_type": "code",
     "collapsed": false,
     "input": [
      "import xlrd"
     ],
     "language": "python",
     "metadata": {},
     "outputs": [],
     "prompt_number": 1
    },
    {
     "cell_type": "code",
     "collapsed": false,
     "input": [
      "XLS_PATH = \"cpispl.xls\""
     ],
     "language": "python",
     "metadata": {},
     "outputs": [],
     "prompt_number": 2
    },
    {
     "cell_type": "markdown",
     "metadata": {},
     "source": [
      "\u7528\u4ee5\u4e0b\u7684\u65b9\u5f0f\uff0c\u53ef\u4ee5\u5728\u4e0d\u958b Excel \u7684\u60c5\u6cc1\u4e0b\u77e5\u9053 Sheet Name"
     ]
    },
    {
     "cell_type": "code",
     "collapsed": false,
     "input": [
      "xls_f = xlrd.open_workbook(XLS_PATH)\n",
      "xls_f.sheet_names()"
     ],
     "language": "python",
     "metadata": {},
     "outputs": [
      {
       "metadata": {},
       "output_type": "pyout",
       "prompt_number": 3,
       "text": [
        "['CPI', '\u5e74\u589e\u7387']"
       ]
      }
     ],
     "prompt_number": 3
    },
    {
     "cell_type": "code",
     "collapsed": false,
     "input": [
      "import pandas as pd"
     ],
     "language": "python",
     "metadata": {},
     "outputs": [],
     "prompt_number": 4
    },
    {
     "cell_type": "code",
     "collapsed": false,
     "input": [
      "df = pd.read_excel(XLS_PATH, \"CPI\", skiprows=2)"
     ],
     "language": "python",
     "metadata": {},
     "outputs": [],
     "prompt_number": 5
    },
    {
     "cell_type": "code",
     "collapsed": false,
     "input": [
      "df.head()"
     ],
     "language": "python",
     "metadata": {},
     "outputs": [
      {
       "html": [
        "<div style=\"max-height:1000px;max-width:1500px;overflow:auto;\">\n",
        "<table border=\"1\" class=\"dataframe\">\n",
        "  <thead>\n",
        "    <tr style=\"text-align: right;\">\n",
        "      <th></th>\n",
        "      <th>\u5e74</th>\n",
        "      <th>1\u6708</th>\n",
        "      <th>2\u6708</th>\n",
        "      <th>3\u6708</th>\n",
        "      <th>4\u6708</th>\n",
        "      <th>5\u6708</th>\n",
        "      <th>6\u6708</th>\n",
        "      <th>7\u6708</th>\n",
        "      <th>8\u6708</th>\n",
        "      <th>9\u6708</th>\n",
        "      <th>10\u6708</th>\n",
        "      <th>11\u6708</th>\n",
        "      <th>12\u6708</th>\n",
        "      <th>\u7d2f\u8a08\u5e73\u5747</th>\n",
        "    </tr>\n",
        "  </thead>\n",
        "  <tbody>\n",
        "    <tr>\n",
        "      <th>0</th>\n",
        "      <td> 48</td>\n",
        "      <td> 10.82</td>\n",
        "      <td> 10.90</td>\n",
        "      <td> 11.07</td>\n",
        "      <td> 11.06</td>\n",
        "      <td> 11.07</td>\n",
        "      <td> 11.25</td>\n",
        "      <td> 11.60</td>\n",
        "      <td> 12.23</td>\n",
        "      <td> 12.61</td>\n",
        "      <td> 12.41</td>\n",
        "      <td> 12.07</td>\n",
        "      <td> 12.04</td>\n",
        "      <td> 11.59</td>\n",
        "    </tr>\n",
        "    <tr>\n",
        "      <th>1</th>\n",
        "      <td> 49</td>\n",
        "      <td> 12.16</td>\n",
        "      <td> 12.43</td>\n",
        "      <td> 12.88</td>\n",
        "      <td> 13.48</td>\n",
        "      <td> 13.42</td>\n",
        "      <td> 13.81</td>\n",
        "      <td> 13.92</td>\n",
        "      <td> 14.53</td>\n",
        "      <td> 14.71</td>\n",
        "      <td> 14.58</td>\n",
        "      <td> 14.60</td>\n",
        "      <td> 14.34</td>\n",
        "      <td> 13.74</td>\n",
        "    </tr>\n",
        "    <tr>\n",
        "      <th>2</th>\n",
        "      <td> 50</td>\n",
        "      <td> 14.37</td>\n",
        "      <td> 14.64</td>\n",
        "      <td> 14.64</td>\n",
        "      <td> 14.75</td>\n",
        "      <td> 14.76</td>\n",
        "      <td> 14.76</td>\n",
        "      <td> 14.69</td>\n",
        "      <td> 14.87</td>\n",
        "      <td> 15.09</td>\n",
        "      <td> 15.20</td>\n",
        "      <td> 15.07</td>\n",
        "      <td> 14.93</td>\n",
        "      <td> 14.81</td>\n",
        "    </tr>\n",
        "    <tr>\n",
        "      <th>3</th>\n",
        "      <td> 51</td>\n",
        "      <td> 14.83</td>\n",
        "      <td> 15.00</td>\n",
        "      <td> 14.95</td>\n",
        "      <td> 15.01</td>\n",
        "      <td> 15.21</td>\n",
        "      <td> 15.12</td>\n",
        "      <td> 14.89</td>\n",
        "      <td> 15.04</td>\n",
        "      <td> 15.41</td>\n",
        "      <td> 15.69</td>\n",
        "      <td> 15.48</td>\n",
        "      <td> 15.37</td>\n",
        "      <td> 15.17</td>\n",
        "    </tr>\n",
        "    <tr>\n",
        "      <th>4</th>\n",
        "      <td> 52</td>\n",
        "      <td> 15.51</td>\n",
        "      <td> 15.52</td>\n",
        "      <td> 15.56</td>\n",
        "      <td> 15.66</td>\n",
        "      <td> 15.52</td>\n",
        "      <td> 15.39</td>\n",
        "      <td> 15.20</td>\n",
        "      <td> 15.23</td>\n",
        "      <td> 15.70</td>\n",
        "      <td> 15.69</td>\n",
        "      <td> 15.50</td>\n",
        "      <td> 15.46</td>\n",
        "      <td> 15.50</td>\n",
        "    </tr>\n",
        "  </tbody>\n",
        "</table>\n",
        "</div>"
       ],
       "metadata": {},
       "output_type": "pyout",
       "prompt_number": 6,
       "text": [
        "    \u5e74     1\u6708     2\u6708     3\u6708     4\u6708     5\u6708     6\u6708     7\u6708     8\u6708     9\u6708    10\u6708  \\\n",
        "0  48  10.82  10.90  11.07  11.06  11.07  11.25  11.60  12.23  12.61  12.41   \n",
        "1  49  12.16  12.43  12.88  13.48  13.42  13.81  13.92  14.53  14.71  14.58   \n",
        "2  50  14.37  14.64  14.64  14.75  14.76  14.76  14.69  14.87  15.09  15.20   \n",
        "3  51  14.83  15.00  14.95  15.01  15.21  15.12  14.89  15.04  15.41  15.69   \n",
        "4  52  15.51  15.52  15.56  15.66  15.52  15.39  15.20  15.23  15.70  15.69   \n",
        "\n",
        "     11\u6708    12\u6708   \u7d2f\u8a08\u5e73\u5747  \n",
        "0  12.07  12.04  11.59  \n",
        "1  14.60  14.34  13.74  \n",
        "2  15.07  14.93  14.81  \n",
        "3  15.48  15.37  15.17  \n",
        "4  15.50  15.46  15.50  "
       ]
      }
     ],
     "prompt_number": 6
    },
    {
     "cell_type": "markdown",
     "metadata": {},
     "source": [
      "\u5c31\u53ef\u4ee5\u958b\u59cb\u5e79\u4e86\uff01"
     ]
    }
   ],
   "metadata": {}
  }
 ]
}